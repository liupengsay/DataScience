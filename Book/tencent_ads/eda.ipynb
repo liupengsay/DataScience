{
 "cells": [
  {
   "cell_type": "markdown",
   "metadata": {},
   "source": [
    "# 数据探索性分析与数据预处理"
   ]
  },
  {
   "cell_type": "markdown",
   "metadata": {},
   "source": [
    "# 0.引入需要的三方库"
   ]
  },
  {
   "cell_type": "code",
   "execution_count": 2,
   "metadata": {},
   "outputs": [],
   "source": [
    "import os\n",
    "import numpy as np\n",
    "import pandas as pd\n",
    "import matplotlib.pyplot as plt"
   ]
  },
  {
   "cell_type": "markdown",
   "metadata": {},
   "source": [
    "# 1.查看竞赛提供的所有文件"
   ]
  },
  {
   "cell_type": "code",
   "execution_count": 3,
   "metadata": {},
   "outputs": [
    {
     "data": {
      "text/plain": [
       "['adFeature.csv',\n",
       " 'adFeature.csv.baiduyun.uploading.cfg',\n",
       " 'test1.csv',\n",
       " 'test1.csv.baiduyun.uploading.cfg',\n",
       " 'test1_truth.csv',\n",
       " 'test1_truth.csv.baiduyun.uploading.cfg',\n",
       " 'train.csv',\n",
       " 'train.csv.baiduyun.uploading.cfg',\n",
       " 'userFeature.csv',\n",
       " 'userFeature.csv.baiduyun.uploading.cfg',\n",
       " 'userFeature.data',\n",
       " 'userFeature.data.baiduyun.uploading.cfg']"
      ]
     },
     "execution_count": 3,
     "metadata": {},
     "output_type": "execute_result"
    }
   ],
   "source": [
    "os.listdir('./data/preliminary_contest_data/')"
   ]
  },
  {
   "cell_type": "markdown",
   "metadata": {},
   "source": [
    "# 2.训练集与测试集"
   ]
  },
  {
   "cell_type": "code",
   "execution_count": 4,
   "metadata": {},
   "outputs": [
    {
     "name": "stdout",
     "output_type": "stream",
     "text": [
      "(8798814, 3) (2265989, 2) (2265989, 3)\n"
     ]
    }
   ],
   "source": [
    "train = pd.read_csv('data/preliminary_contest_data/train.csv')\n",
    "test1 =  pd.read_csv('data/preliminary_contest_data/test1.csv')\n",
    "test1_truth = pd.read_csv('data/preliminary_contest_data/test1_truth.csv', header=None)\n",
    "test1_truth.columns  = train.columns\n",
    "print(train.shape, test1.shape, test1_truth.shape)"
   ]
  },
  {
   "cell_type": "code",
   "execution_count": 5,
   "metadata": {
    "scrolled": true
   },
   "outputs": [],
   "source": [
    "train.head().to_csv(\"temp/train_head.csv\", index=False)\n",
    "train.tail().to_csv(\"temp/train_tail.csv\", index=False)"
   ]
  },
  {
   "cell_type": "code",
   "execution_count": 6,
   "metadata": {},
   "outputs": [],
   "source": [
    "test1.head().to_csv(\"temp/test1_head.csv\", index=False)\n",
    "test1.tail().to_csv(\"temp/test1_tail.csv\", index=False)"
   ]
  },
  {
   "cell_type": "code",
   "execution_count": 7,
   "metadata": {},
   "outputs": [],
   "source": [
    "test1_truth.head().to_csv(\"temp/test1_truth_head.csv\", index=False)\n",
    "test1_truth.tail().to_csv(\"temp/test1_truth_tail.csv\", index=False)"
   ]
  },
  {
   "cell_type": "code",
   "execution_count": 8,
   "metadata": {},
   "outputs": [],
   "source": [
    "# 可以看到腾讯公开提供的数据集中给出了测试集的真实标签，参赛者需要明确这是一个双主键的\n",
    "# 用户与广告匹配，因此可以适当查看训练集与测试集的aid与uid的重叠情况。"
   ]
  },
  {
   "cell_type": "code",
   "execution_count": 10,
   "metadata": {},
   "outputs": [
    {
     "name": "stdout",
     "output_type": "stream",
     "text": [
      "0.047956576875019745\n"
     ]
    }
   ],
   "source": [
    "# 检查缺失情况\n",
    "assert train.isnull().sum().sum() == 0\n",
    "assert test1.isnull().sum().sum() == 0\n",
    "assert test1_truth.isnull().sum().sum() == 0\n",
    "print((train['label']==1).astype(int).mean())"
   ]
  },
  {
   "cell_type": "code",
   "execution_count": 9,
   "metadata": {},
   "outputs": [
    {
     "name": "stdout",
     "output_type": "stream",
     "text": [
      "duplicate check of uid\n",
      "train_unique 7883466\n",
      "test1_unique 2195951\n",
      "all_unique 9686953\n",
      "duplicate 392464\n",
      "\n",
      "\n",
      "duplicate check of aid\n",
      "train_unique 173\n",
      "test1_unique 173\n",
      "all_unique 173\n",
      "duplicate 173\n",
      "\n",
      "\n"
     ]
    }
   ],
   "source": [
    "# 检查训练集与测试集的uid与aid重合情况\n",
    "def check_duplicate(feature):\n",
    "    print('duplicate check of ' + feature)\n",
    "    train_unique = train[feature].unique().tolist()\n",
    "    test1_unique = test1[feature].unique().tolist()\n",
    "    all_unique = list(set(train_unique + test1_unique))\n",
    "    print('train_unique', len(train_unique))\n",
    "    print('test1_unique', len(test1_unique))\n",
    "    print('all_unique', len(all_unique))\n",
    "    print('duplicate', len(train_unique) + len(test1_unique) - len(all_unique))\n",
    "    print('\\n')\n",
    "    return \n",
    "check_duplicate('uid')\n",
    "check_duplicate('aid')\n",
    "# 结论：可以看出测试集的用户只有不到18%出现在训练集中，而aid与训练集中出现的全部一样"
   ]
  },
  {
   "cell_type": "code",
   "execution_count": 10,
   "metadata": {},
   "outputs": [],
   "source": [
    "# 检查训练集与测试集的双主键重合情况\n",
    "train_nunique = train[['uid', 'aid']].drop_duplicates().shape[0]\n",
    "test1_nunique = test1[['uid', 'aid']].drop_duplicates().shape[0]\n",
    "all_nunique = test1[['uid', 'aid']].append(train[['uid', 'aid']]).drop_duplicates().shape[0]\n",
    "assert train_nunique == train.shape[0]\n",
    "assert test1_nunique == test1.shape[0]\n",
    "assert train_nunique + test1_nunique == all_nunique"
   ]
  },
  {
   "cell_type": "code",
   "execution_count": 11,
   "metadata": {},
   "outputs": [
    {
     "data": {
      "image/png": "[encoded data removed]",
      "text/plain": [
       "<matplotlib.figure.Figure at 0x177800853c8>"
      ]
     },
     "metadata": {
      "needs_background": "light"
     },
     "output_type": "display_data"
    }
   ],
   "source": [
    "# 分析测试集与训练集中aid的分布差异\n",
    "(train['aid'].value_counts()/train.shape[0]).sort_index().plot()\n",
    "(test1['aid'].value_counts()/test1.shape[0]).sort_index().plot()\n",
    "plt.xlabel('aid')\n",
    "plt.legend(['train','test1'])\n",
    "plt.ylabel('ratio')\n",
    "plt.show()\n",
    "# 结论：由此可猜测测试集与训练集同分布"
   ]
  },
  {
   "cell_type": "markdown",
   "metadata": {},
   "source": [
    "# 3.广告属性"
   ]
  },
  {
   "cell_type": "code",
   "execution_count": 13,
   "metadata": {},
   "outputs": [],
   "source": [
    "# 可以看出这数据结构很简单，给出了每个aid的类别信息\n",
    "ad = pd.read_csv('data/preliminary_contest_data/adFeature.csv')\n",
    "ad.head().to_csv('preprocess/ad_head.csv', index=False)"
   ]
  },
  {
   "cell_type": "code",
   "execution_count": 15,
   "metadata": {},
   "outputs": [
    {
     "data": {
      "text/html": [
       "<div>\n",
       "<style scoped>\n",
       "    .dataframe tbody tr th:only-of-type {\n",
       "        vertical-align: middle;\n",
       "    }\n",
       "\n",
       "    .dataframe tbody tr th {\n",
       "        vertical-align: top;\n",
       "    }\n",
       "\n",
       "    .dataframe thead th {\n",
       "        text-align: right;\n",
       "    }\n",
       "</style>\n",
       "<table border=\"1\" class=\"dataframe\">\n",
       "  <thead>\n",
       "    <tr style=\"text-align: right;\">\n",
       "      <th></th>\n",
       "      <th>aid</th>\n",
       "      <th>advertiserId</th>\n",
       "      <th>campaignId</th>\n",
       "      <th>creativeId</th>\n",
       "      <th>creativeSize</th>\n",
       "      <th>adCategoryId</th>\n",
       "      <th>productId</th>\n",
       "      <th>productType</th>\n",
       "    </tr>\n",
       "  </thead>\n",
       "  <tbody>\n",
       "    <tr>\n",
       "      <th>0</th>\n",
       "      <td>2169</td>\n",
       "      <td>16770</td>\n",
       "      <td>38402</td>\n",
       "      <td>43877</td>\n",
       "      <td>35</td>\n",
       "      <td>89</td>\n",
       "      <td>9760</td>\n",
       "      <td>9</td>\n",
       "    </tr>\n",
       "    <tr>\n",
       "      <th>1</th>\n",
       "      <td>411</td>\n",
       "      <td>9106</td>\n",
       "      <td>163120</td>\n",
       "      <td>220179</td>\n",
       "      <td>79</td>\n",
       "      <td>21</td>\n",
       "      <td>0</td>\n",
       "      <td>4</td>\n",
       "    </tr>\n",
       "    <tr>\n",
       "      <th>2</th>\n",
       "      <td>894</td>\n",
       "      <td>452</td>\n",
       "      <td>38391</td>\n",
       "      <td>43862</td>\n",
       "      <td>35</td>\n",
       "      <td>10</td>\n",
       "      <td>12193</td>\n",
       "      <td>11</td>\n",
       "    </tr>\n",
       "    <tr>\n",
       "      <th>3</th>\n",
       "      <td>450</td>\n",
       "      <td>45705</td>\n",
       "      <td>352827</td>\n",
       "      <td>565415</td>\n",
       "      <td>42</td>\n",
       "      <td>67</td>\n",
       "      <td>0</td>\n",
       "      <td>4</td>\n",
       "    </tr>\n",
       "    <tr>\n",
       "      <th>4</th>\n",
       "      <td>313</td>\n",
       "      <td>243</td>\n",
       "      <td>531344</td>\n",
       "      <td>979528</td>\n",
       "      <td>22</td>\n",
       "      <td>27</td>\n",
       "      <td>113</td>\n",
       "      <td>9</td>\n",
       "    </tr>\n",
       "  </tbody>\n",
       "</table>\n",
       "</div>"
      ],
      "text/plain": [
       "    aid  advertiserId  campaignId  creativeId  creativeSize  adCategoryId  \\\n",
       "0  2169         16770       38402       43877            35            89   \n",
       "1   411          9106      163120      220179            79            21   \n",
       "2   894           452       38391       43862            35            10   \n",
       "3   450         45705      352827      565415            42            67   \n",
       "4   313           243      531344      979528            22            27   \n",
       "\n",
       "   productId  productType  \n",
       "0       9760            9  \n",
       "1          0            4  \n",
       "2      12193           11  \n",
       "3          0            4  \n",
       "4        113            9  "
      ]
     },
     "execution_count": 15,
     "metadata": {},
     "output_type": "execute_result"
    }
   ],
   "source": [
    "ad.head()"
   ]
  },
  {
   "cell_type": "code",
   "execution_count": 16,
   "metadata": {},
   "outputs": [
    {
     "data": {
      "text/plain": [
       "aid             173\n",
       "advertiserId     79\n",
       "campaignId      138\n",
       "creativeId      173\n",
       "creativeSize     15\n",
       "adCategoryId     40\n",
       "productId        33\n",
       "productType       4\n",
       "dtype: int64"
      ]
     },
     "execution_count": 16,
     "metadata": {},
     "output_type": "execute_result"
    }
   ],
   "source": [
    "ad.nunique()"
   ]
  },
  {
   "cell_type": "markdown",
   "metadata": {},
   "source": [
    "# 4.用户信息"
   ]
  },
  {
   "cell_type": "code",
   "execution_count": 17,
   "metadata": {},
   "outputs": [
    {
     "name": "stdout",
     "output_type": "stream",
     "text": [
      "Reading...\n",
      "User feature prepared\n"
     ]
    }
   ],
   "source": [
    "# 由于数据文件格式为.data，不利于分析统计，因此先将其转换为csv格式的文件，此处转换代码来自开源\n",
    "# https://github.com/liupengsay/2018-Tencent-social-advertising-algorithm-contest\n",
    "\n",
    "##读取数据\n",
    "print(\"Reading...\")\n",
    "ad_feature=pd.read_csv('data/preliminary_contest_data/adFeature.csv')\n",
    "if os.path.exists('data/preliminary_contest_data/userFeature.csv'):\n",
    "    user_feature = pd.read_csv('data/preliminary_contest_data/userFeature.csv')\n",
    "    print('User feature prepared')\n",
    "else:\n",
    "    userFeature_data = []\n",
    "    with open('data/preliminary_contest_data/userFeature.data', 'r') as f:\n",
    "        for i, line in enumerate(f):\n",
    "            line = line.strip().split('|')\n",
    "            userFeature_dict = {}\n",
    "            for each in line:\n",
    "                each_list = each.split(' ')\n",
    "                userFeature_dict[each_list[0]] = ' '.join(each_list[1:])\n",
    "            userFeature_data.append(userFeature_dict)\n",
    "            if i % 1000000 == 0:\n",
    "                print(i)\n",
    "        user_feature = pd.DataFrame(userFeature_data)\n",
    "        print('User feature...')\n",
    "        user_feature.to_csv('data/preliminary_contest_data/userFeature.csv', index=False)\n",
    "        print('User feature prepared')"
   ]
  },
  {
   "cell_type": "code",
   "execution_count": 26,
   "metadata": {},
   "outputs": [
    {
     "data": {
      "text/html": [
       "<div>\n",
       "<style scoped>\n",
       "    .dataframe tbody tr th:only-of-type {\n",
       "        vertical-align: middle;\n",
       "    }\n",
       "\n",
       "    .dataframe tbody tr th {\n",
       "        vertical-align: top;\n",
       "    }\n",
       "\n",
       "    .dataframe thead th {\n",
       "        text-align: right;\n",
       "    }\n",
       "</style>\n",
       "<table border=\"1\" class=\"dataframe\">\n",
       "  <thead>\n",
       "    <tr style=\"text-align: right;\">\n",
       "      <th></th>\n",
       "      <th>uid</th>\n",
       "      <th>age</th>\n",
       "      <th>gender</th>\n",
       "      <th>marriageStatus</th>\n",
       "      <th>education</th>\n",
       "      <th>consumptionAbility</th>\n",
       "      <th>LBS</th>\n",
       "      <th>interest2</th>\n",
       "      <th>interest5</th>\n",
       "      <th>kw2</th>\n",
       "    </tr>\n",
       "  </thead>\n",
       "  <tbody>\n",
       "    <tr>\n",
       "      <th>0</th>\n",
       "      <td>72068206</td>\n",
       "      <td>4</td>\n",
       "      <td>2</td>\n",
       "      <td>10</td>\n",
       "      <td>1</td>\n",
       "      <td>1</td>\n",
       "      <td>317.0</td>\n",
       "      <td>79 6</td>\n",
       "      <td>77 53 109 30 6 59</td>\n",
       "      <td>15215 80808 114283 71854 34525</td>\n",
       "    </tr>\n",
       "    <tr>\n",
       "      <th>1</th>\n",
       "      <td>44661871</td>\n",
       "      <td>5</td>\n",
       "      <td>1</td>\n",
       "      <td>11</td>\n",
       "      <td>7</td>\n",
       "      <td>1</td>\n",
       "      <td>458.0</td>\n",
       "      <td>NaN</td>\n",
       "      <td>77 52 100 72 131 37 116 4 79 71 109 8 69 41 6 ...</td>\n",
       "      <td>15571 92783 34154 33457 31671</td>\n",
       "    </tr>\n",
       "    <tr>\n",
       "      <th>2</th>\n",
       "      <td>3036658</td>\n",
       "      <td>3</td>\n",
       "      <td>1</td>\n",
       "      <td>11</td>\n",
       "      <td>7</td>\n",
       "      <td>1</td>\n",
       "      <td>682.0</td>\n",
       "      <td>47 22 58 24 79 73 9 46 32 70 20 6 33 50 49 30 ...</td>\n",
       "      <td>100 72 80 131 37 116 108 79 29 8 113 6 132 42 ...</td>\n",
       "      <td>11395 79112 82720 87384 56195</td>\n",
       "    </tr>\n",
       "    <tr>\n",
       "      <th>3</th>\n",
       "      <td>77640094</td>\n",
       "      <td>5</td>\n",
       "      <td>2</td>\n",
       "      <td>6 13</td>\n",
       "      <td>7</td>\n",
       "      <td>2</td>\n",
       "      <td>809.0</td>\n",
       "      <td>79 46 6 18 29</td>\n",
       "      <td>72 92 37 116 47 78 71 8 30 50 6 111 27 75 46 3...</td>\n",
       "      <td>846 95597 33055 41919 81422</td>\n",
       "    </tr>\n",
       "    <tr>\n",
       "      <th>4</th>\n",
       "      <td>68081558</td>\n",
       "      <td>4</td>\n",
       "      <td>1</td>\n",
       "      <td>10</td>\n",
       "      <td>2</td>\n",
       "      <td>0</td>\n",
       "      <td>774.0</td>\n",
       "      <td>NaN</td>\n",
       "      <td>NaN</td>\n",
       "      <td>9429 114069 97540 77212 114164</td>\n",
       "    </tr>\n",
       "  </tbody>\n",
       "</table>\n",
       "</div>"
      ],
      "text/plain": [
       "        uid  age  gender marriageStatus  education  consumptionAbility    LBS  \\\n",
       "0  72068206    4       2             10          1                   1  317.0   \n",
       "1  44661871    5       1             11          7                   1  458.0   \n",
       "2   3036658    3       1             11          7                   1  682.0   \n",
       "3  77640094    5       2           6 13          7                   2  809.0   \n",
       "4  68081558    4       1             10          2                   0  774.0   \n",
       "\n",
       "                                           interest2  \\\n",
       "0                                               79 6   \n",
       "1                                                NaN   \n",
       "2  47 22 58 24 79 73 9 46 32 70 20 6 33 50 49 30 ...   \n",
       "3                                      79 46 6 18 29   \n",
       "4                                                NaN   \n",
       "\n",
       "                                           interest5  \\\n",
       "0                                  77 53 109 30 6 59   \n",
       "1  77 52 100 72 131 37 116 4 79 71 109 8 69 41 6 ...   \n",
       "2  100 72 80 131 37 116 108 79 29 8 113 6 132 42 ...   \n",
       "3  72 92 37 116 47 78 71 8 30 50 6 111 27 75 46 3...   \n",
       "4                                                NaN   \n",
       "\n",
       "                              kw2  \n",
       "0  15215 80808 114283 71854 34525  \n",
       "1   15571 92783 34154 33457 31671  \n",
       "2   11395 79112 82720 87384 56195  \n",
       "3     846 95597 33055 41919 81422  \n",
       "4  9429 114069 97540 77212 114164  "
      ]
     },
     "execution_count": 26,
     "metadata": {},
     "output_type": "execute_result"
    }
   ],
   "source": [
    "cols = user_feature.columns.tolist()[:10]\n",
    "user_feature.head()[cols].to_csv('preprocess/user_feature_head.csv', index=False)\n",
    "user_feature.head()[cols]"
   ]
  },
  {
   "cell_type": "code",
   "execution_count": 19,
   "metadata": {},
   "outputs": [
    {
     "data": {
      "text/plain": [
       "(11420039, 24)"
      ]
     },
     "execution_count": 19,
     "metadata": {},
     "output_type": "execute_result"
    }
   ],
   "source": [
    "user_feature.shape"
   ]
  },
  {
   "cell_type": "code",
   "execution_count": 20,
   "metadata": {},
   "outputs": [
    {
     "data": {
      "text/plain": [
       "uid                          0\n",
       "age                          0\n",
       "gender                       0\n",
       "marriageStatus               1\n",
       "education                    0\n",
       "consumptionAbility           0\n",
       "LBS                         80\n",
       "interest2              3995451\n",
       "interest5              2905265\n",
       "kw2                     418273\n",
       "topic1                  910265\n",
       "topic2                  441607\n",
       "ct                           0\n",
       "os                           0\n",
       "carrier                      0\n",
       "interest1               969798\n",
       "kw1                    1074371\n",
       "interest3             11120494\n",
       "interest4             11250016\n",
       "kw3                   10899417\n",
       "topic3                10898167\n",
       "appIdInstall          11189738\n",
       "appIdAction           11250466\n",
       "house                  9330110\n",
       "dtype: int64"
      ]
     },
     "execution_count": 20,
     "metadata": {},
     "output_type": "execute_result"
    }
   ],
   "source": [
    "# 缺失值状况\n",
    "user_feature.isnull().sum()\n",
    "\n",
    "# 其余还可以分析下用户的信息分布，如年龄、性别、学历、消费能力等"
   ]
  },
  {
   "cell_type": "code",
   "execution_count": 24,
   "metadata": {},
   "outputs": [
    {
     "data": {
      "image/png": "[encoded data removed]",
      "text/plain": [
       "<matplotlib.figure.Figure at 0x27f517a56d8>"
      ]
     },
     "metadata": {
      "needs_background": "light"
     },
     "output_type": "display_data"
    }
   ],
   "source": [
    "(user_feature.isnull().sum()/user_feature.shape[0]).plot.bar(figsize=(20,5))\n",
    "plt.xlabel('feature')\n",
    "plt.ylabel('null_ratio')\n",
    "plt.show()"
   ]
  },
  {
   "cell_type": "code",
   "execution_count": 17,
   "metadata": {},
   "outputs": [],
   "source": [
    "# 方便参赛者快速理解并且跑通demo起见，对训练集与测试集进行随机采样，使得大数据问题转换为小数据\n",
    "train = train.sample(frac=0.01, random_state=2020).reset_index(drop=True)\n",
    "test1 = test1.sample(frac=0.01, random_state=2020).reset_index(drop=True)\n",
    "test1['label'] = -2"
   ]
  },
  {
   "cell_type": "code",
   "execution_count": 18,
   "metadata": {},
   "outputs": [
    {
     "data": {
      "text/plain": [
       "(110648, 26)"
      ]
     },
     "execution_count": 18,
     "metadata": {},
     "output_type": "execute_result"
    }
   ],
   "source": [
    "# 从中取出现有训练集与测试集的用户信息\n",
    "user_feature = pd.merge(train.append(test1), user_feature, how='left', on='uid').reset_index(drop=True)\n",
    "user_feature.shape"
   ]
  },
  {
   "cell_type": "code",
   "execution_count": 19,
   "metadata": {},
   "outputs": [],
   "source": [
    "# 拼接广告信息\n",
    "data = pd.merge(user_feature, ad, how='left', on='aid')\n",
    "del user_feature"
   ]
  },
  {
   "cell_type": "code",
   "execution_count": 20,
   "metadata": {},
   "outputs": [
    {
     "data": {
      "text/plain": [
       "(110648, 33)"
      ]
     },
     "execution_count": 20,
     "metadata": {},
     "output_type": "execute_result"
    }
   ],
   "source": [
    "data.shape"
   ]
  },
  {
   "cell_type": "code",
   "execution_count": 21,
   "metadata": {},
   "outputs": [
    {
     "data": {
      "text/plain": [
       "(87988, 3)"
      ]
     },
     "execution_count": 21,
     "metadata": {},
     "output_type": "execute_result"
    }
   ],
   "source": [
    "train.shape"
   ]
  },
  {
   "cell_type": "code",
   "execution_count": 22,
   "metadata": {},
   "outputs": [
    {
     "data": {
      "text/plain": [
       "(22660, 3)"
      ]
     },
     "execution_count": 22,
     "metadata": {},
     "output_type": "execute_result"
    }
   ],
   "source": [
    "test1.shape"
   ]
  },
  {
   "cell_type": "code",
   "execution_count": 23,
   "metadata": {},
   "outputs": [],
   "source": [
    "del train, test1"
   ]
  },
  {
   "cell_type": "code",
   "execution_count": 24,
   "metadata": {},
   "outputs": [
    {
     "data": {
      "text/plain": [
       "-1    83703\n",
       "-2    22660\n",
       " 1     4285\n",
       "Name: label, dtype: int64"
      ]
     },
     "execution_count": 24,
     "metadata": {},
     "output_type": "execute_result"
    }
   ],
   "source": [
    "data['label'].value_counts()"
   ]
  },
  {
   "cell_type": "markdown",
   "metadata": {},
   "source": [
    "# 5.训练集与测试集特征拼接"
   ]
  },
  {
   "cell_type": "code",
   "execution_count": 25,
   "metadata": {},
   "outputs": [
    {
     "data": {
      "text/plain": [
       " 0    83703\n",
       "-1    22660\n",
       " 1     4285\n",
       "Name: label, dtype: int64"
      ]
     },
     "execution_count": 25,
     "metadata": {},
     "output_type": "execute_result"
    }
   ],
   "source": [
    "# 进行标签的转换，方便区分训练集与测试集\n",
    "data['label'].replace(-1, 0, inplace=True)\n",
    "data['label'].replace(-2, -1, inplace=True)\n",
    "data['label'].value_counts()"
   ]
  },
  {
   "cell_type": "code",
   "execution_count": 26,
   "metadata": {},
   "outputs": [],
   "source": [
    "# 进行后续需要使用到的训练集、测试集以及测试集标签生成\n",
    "train = data[data['label']>=0].reset_index(drop=True)\n",
    "test = data[data['label']==-1].reset_index(drop=True)\n",
    "del data"
   ]
  },
  {
   "cell_type": "code",
   "execution_count": 27,
   "metadata": {},
   "outputs": [],
   "source": [
    "test_truth = pd.merge(test[['aid', 'uid']], test1_truth, how='left', on=['aid', 'uid'])\n",
    "test_truth['label'].replace(-1, 0, inplace=True)"
   ]
  },
  {
   "cell_type": "code",
   "execution_count": 28,
   "metadata": {},
   "outputs": [
    {
     "data": {
      "text/plain": [
       "0    21584\n",
       "1     1076\n",
       "Name: label, dtype: int64"
      ]
     },
     "execution_count": 28,
     "metadata": {},
     "output_type": "execute_result"
    }
   ],
   "source": [
    "test_truth['label'].value_counts()"
   ]
  },
  {
   "cell_type": "code",
   "execution_count": 30,
   "metadata": {},
   "outputs": [],
   "source": [
    "# 根据字段类型划分\n",
    "cols = train.columns.tolist()\n",
    "cols.sort()\n",
    "se = train[cols].dtypes\n",
    "\n",
    "text_features = se[se=='object'].index.tolist()\n",
    "discrete_features = se[se!='object'].index.tolist()\n",
    "\n",
    "discrete_features.remove('aid')\n",
    "discrete_features.remove('uid')\n",
    "discrete_features.remove('label')"
   ]
  },
  {
   "cell_type": "code",
   "execution_count": 31,
   "metadata": {},
   "outputs": [
    {
     "data": {
      "text/plain": [
       "['appIdAction',\n",
       " 'appIdInstall',\n",
       " 'ct',\n",
       " 'interest1',\n",
       " 'interest2',\n",
       " 'interest3',\n",
       " 'interest4',\n",
       " 'interest5',\n",
       " 'kw1',\n",
       " 'kw2',\n",
       " 'kw3',\n",
       " 'marriageStatus',\n",
       " 'os',\n",
       " 'topic1',\n",
       " 'topic2',\n",
       " 'topic3']"
      ]
     },
     "execution_count": 31,
     "metadata": {},
     "output_type": "execute_result"
    }
   ],
   "source": [
    "text_features"
   ]
  },
  {
   "cell_type": "code",
   "execution_count": 54,
   "metadata": {},
   "outputs": [
    {
     "data": {
      "text/plain": [
       "['LBS',\n",
       " 'adCategoryId',\n",
       " 'advertiserId',\n",
       " 'age',\n",
       " 'campaignId',\n",
       " 'carrier',\n",
       " 'consumptionAbility',\n",
       " 'creativeId',\n",
       " 'creativeSize',\n",
       " 'education',\n",
       " 'gender',\n",
       " 'house',\n",
       " 'productId',\n",
       " 'productType']"
      ]
     },
     "execution_count": 54,
     "metadata": {},
     "output_type": "execute_result"
    }
   ],
   "source": [
    "discrete_features"
   ]
  },
  {
   "cell_type": "code",
   "execution_count": 55,
   "metadata": {},
   "outputs": [],
   "source": [
    "text_features = ['appIdAction', 'appIdInstall', 'ct', 'interest1',\n",
    " 'interest2', 'interest3', 'interest4', 'interest5', 'kw1',\n",
    " 'kw2', 'kw3', 'marriageStatus', 'os', 'topic1', 'topic2', 'topic3']\n",
    "\n",
    "cat_features = ['LBS', 'adCategoryId', 'advertiserId', 'age', 'campaignId',\n",
    " 'carrier', 'consumptionAbility', 'creativeId', 'creativeSize', 'education',\n",
    " 'gender', 'house', 'productId', 'productType', 'aid', 'uid']\n",
    "train[text_features] = train[text_features].fillna('00').astype(str)\n",
    "test[text_features] = test[text_features].fillna('00').astype(str)\n",
    "train[cat_features] = train[cat_features].fillna('00').astype(str)\n",
    "test[cat_features] = test[cat_features].fillna('00').astype(str)"
   ]
  },
  {
   "cell_type": "code",
   "execution_count": 57,
   "metadata": {},
   "outputs": [],
   "source": [
    "# 将拼接好的表格进行存储\n",
    "train.to_csv('preprocess/train_sample.csv', index=False)\n",
    "test.to_csv('preprocess/test_sample.csv', index=False)\n",
    "\n",
    "test_truth.to_csv('preprocess/test_truth_sample.csv', index=False)"
   ]
  },
  {
   "cell_type": "markdown",
   "metadata": {},
   "source": [
    "# 6.基本建模思路"
   ]
  },
  {
   "cell_type": "code",
   "execution_count": 33,
   "metadata": {},
   "outputs": [],
   "source": [
    "# 总结：通过简单的数据探索性分析以及表格的拼接处理，参赛者可以感知到这个数据结构十分清晰，就两类特征，\n",
    "# 即单变量离散特征discrete_features与多变量文本特征text_features，因此可以考虑直接使用catboost进行建模"
   ]
  },
  {
   "cell_type": "code",
   "execution_count": null,
   "metadata": {},
   "outputs": [],
   "source": [
    "\n"
   ]
  },
  {
   "cell_type": "code",
   "execution_count": null,
   "metadata": {},
   "outputs": [],
   "source": []
  }
 ],
 "metadata": {
  "kernelspec": {
   "display_name": "Python 3",
   "language": "python",
   "name": "python3"
  },
  "language_info": {
   "codemirror_mode": {
    "name": "ipython",
    "version": 3
   },
   "file_extension": ".py",
   "mimetype": "text/x-python",
   "name": "python",
   "nbconvert_exporter": "python",
   "pygments_lexer": "ipython3",
   "version": "3.6.4"
  }
 },
 "nbformat": 4,
 "nbformat_minor": 2
}
