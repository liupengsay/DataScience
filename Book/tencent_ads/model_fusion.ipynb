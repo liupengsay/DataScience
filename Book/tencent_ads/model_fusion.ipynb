{
 "cells": [
  {
   "cell_type": "markdown",
   "metadata": {},
   "source": [
    "# 进行模型融合\n",
    "## 简单根据线上得分与相关性系数进行加权融合"
   ]
  },
  {
   "cell_type": "code",
   "execution_count": 5,
   "metadata": {},
   "outputs": [
    {
     "name": "stdout",
     "output_type": "stream",
     "text": [
      "          lightgbm   xgboost  catboost\n",
      "lightgbm  1.000000  0.561906  0.362123\n",
      "xgboost   0.561906  1.000000  0.750694\n",
      "catboost  0.362123  0.750694  1.000000\n",
      "0.6820822890286347\n"
     ]
    }
   ],
   "source": [
    "# 测试集得分\n",
    "\n",
    "import pandas as pd\n",
    "from sklearn.metrics import roc_auc_score\n",
    "data = pd.read_csv(\"result/test_lightgbm.csv\")\n",
    "data['lightgbm'] = data['0'].values\n",
    "del data['0']\n",
    "\n",
    "temp = pd.read_csv(\"result/test_xgboost.csv\")\n",
    "data['xgboost'] = temp['0'].values\n",
    "\n",
    "\n",
    "temp = pd.read_csv(\"result/test_catboost.csv\")\n",
    "data['catboost'] = temp['0'].values\n",
    "\n",
    "print(data.corr())\n",
    "\n",
    "data['ronghe'] = data['lightgbm']*0.01+data['xgboost']*0.59 + data['catboost']*0.4\n",
    "truth_test = pd.read_csv('preprocess/test_truth_sample.csv')['label'].values\n",
    "\n",
    "print(roc_auc_score(truth_test, data['ronghe'].values))"
   ]
  },
  {
   "cell_type": "code",
   "execution_count": 4,
   "metadata": {},
   "outputs": [
    {
     "name": "stdout",
     "output_type": "stream",
     "text": [
      "          lightgbm   xgboost  catboost\n",
      "lightgbm  1.000000  0.411177  0.254108\n",
      "xgboost   0.411177  1.000000  0.662206\n",
      "catboost  0.254108  0.662206  1.000000\n",
      "0.6815701250536169\n"
     ]
    }
   ],
   "source": [
    "# 训练集得分\n",
    "data = pd.read_csv(\"result/train_lightgbm.csv\")\n",
    "data['lightgbm'] = data['0'].values\n",
    "del data['0']\n",
    "\n",
    "temp = pd.read_csv(\"result/train_xgboost.csv\")\n",
    "data['xgboost'] = temp['0'].values\n",
    "\n",
    "\n",
    "temp = pd.read_csv(\"result/train_catboost.csv\")\n",
    "data['catboost'] = temp['0'].values\n",
    "\n",
    "print(data.corr())\n",
    "\n",
    "data['ronghe'] = data['lightgbm']*0.01+data['xgboost']*0.59 + data['catboost']*0.4\n",
    "truth_train = pd.read_csv('preprocess/train_sample.csv')['label'].values\n",
    "\n",
    "print(roc_auc_score(truth_train, data['ronghe'].values))"
   ]
  },
  {
   "cell_type": "code",
   "execution_count": null,
   "metadata": {},
   "outputs": [],
   "source": []
  },
  {
   "cell_type": "code",
   "execution_count": null,
   "metadata": {},
   "outputs": [],
   "source": []
  }
 ],
 "metadata": {
  "kernelspec": {
   "display_name": "Python 3",
   "language": "python",
   "name": "python3"
  },
  "language_info": {
   "codemirror_mode": {
    "name": "ipython",
    "version": 3
   },
   "file_extension": ".py",
   "mimetype": "text/x-python",
   "name": "python",
   "nbconvert_exporter": "python",
   "pygments_lexer": "ipython3",
   "version": "3.6.4"
  }
 },
 "nbformat": 4,
 "nbformat_minor": 2
}
